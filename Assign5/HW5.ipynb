{
 "cells": [
  {
   "cell_type": "code",
   "execution_count": 1,
   "metadata": {},
   "outputs": [],
   "source": [
    "# Importing necessary files\n",
    "import pandas as pd\n",
    "import numpy as np\n",
    "from sklearn.model_selection import KFold \n",
    "from sklearn.tree import DecisionTreeClassifier\n",
    "from sklearn import model_selection,preprocessing, neighbors,metrics\n",
    "from sklearn.utils import shuffle\n",
    "from sklearn.neighbors import KNeighborsClassifier\n",
    "import random\n",
    "from sklearn.metrics import accuracy_score\n",
    "import matplotlib.pyplot as plt\n",
    "import testing,training\n",
    "import os\n",
    "import numpy as np"
   ]
  },
  {
   "cell_type": "code",
   "execution_count": 2,
   "metadata": {},
   "outputs": [
    {
     "data": {
      "text/html": [
       "<div>\n",
       "<style scoped>\n",
       "    .dataframe tbody tr th:only-of-type {\n",
       "        vertical-align: middle;\n",
       "    }\n",
       "\n",
       "    .dataframe tbody tr th {\n",
       "        vertical-align: top;\n",
       "    }\n",
       "\n",
       "    .dataframe thead th {\n",
       "        text-align: right;\n",
       "    }\n",
       "</style>\n",
       "<table border=\"1\" class=\"dataframe\">\n",
       "  <thead>\n",
       "    <tr style=\"text-align: right;\">\n",
       "      <th></th>\n",
       "      <th>sepalLength</th>\n",
       "      <th>sepalWidth</th>\n",
       "      <th>petalLength</th>\n",
       "      <th>petalWidth</th>\n",
       "      <th>class</th>\n",
       "    </tr>\n",
       "  </thead>\n",
       "  <tbody>\n",
       "    <tr>\n",
       "      <th>0</th>\n",
       "      <td>5.1</td>\n",
       "      <td>3.5</td>\n",
       "      <td>1.4</td>\n",
       "      <td>0.2</td>\n",
       "      <td>Iris-setosa</td>\n",
       "    </tr>\n",
       "    <tr>\n",
       "      <th>1</th>\n",
       "      <td>4.9</td>\n",
       "      <td>3.0</td>\n",
       "      <td>1.4</td>\n",
       "      <td>0.2</td>\n",
       "      <td>Iris-setosa</td>\n",
       "    </tr>\n",
       "    <tr>\n",
       "      <th>2</th>\n",
       "      <td>4.7</td>\n",
       "      <td>3.2</td>\n",
       "      <td>1.3</td>\n",
       "      <td>0.2</td>\n",
       "      <td>Iris-setosa</td>\n",
       "    </tr>\n",
       "    <tr>\n",
       "      <th>3</th>\n",
       "      <td>4.6</td>\n",
       "      <td>3.1</td>\n",
       "      <td>1.5</td>\n",
       "      <td>0.2</td>\n",
       "      <td>Iris-setosa</td>\n",
       "    </tr>\n",
       "    <tr>\n",
       "      <th>4</th>\n",
       "      <td>5.0</td>\n",
       "      <td>3.6</td>\n",
       "      <td>1.4</td>\n",
       "      <td>0.2</td>\n",
       "      <td>Iris-setosa</td>\n",
       "    </tr>\n",
       "  </tbody>\n",
       "</table>\n",
       "</div>"
      ],
      "text/plain": [
       "   sepalLength  sepalWidth  petalLength  petalWidth        class\n",
       "0          5.1         3.5          1.4         0.2  Iris-setosa\n",
       "1          4.9         3.0          1.4         0.2  Iris-setosa\n",
       "2          4.7         3.2          1.3         0.2  Iris-setosa\n",
       "3          4.6         3.1          1.5         0.2  Iris-setosa\n",
       "4          5.0         3.6          1.4         0.2  Iris-setosa"
      ]
     },
     "execution_count": 2,
     "metadata": {},
     "output_type": "execute_result"
    }
   ],
   "source": [
    "train_X =[]\n",
    "test_X =[]\n",
    "train_y =[]\n",
    "test_y =[]\n",
    "max_neighbors =25\n",
    "\n",
    "# creating a np array for dtc-->Decision tree classifier and knn .\n",
    "acc_dtc = np.array([])\n",
    "acc_knn = np.array([])\n",
    "acc_knn = acc_knn.astype('float64')\n",
    "\n",
    "# creating directory for dtc knn and accuracy\n",
    "os.mkdir('dtc')\n",
    "os.mkdir('knn')\n",
    "os.mkdir('accuracy')\n",
    "os.mkdir('train_csv')\n",
    "os.mkdir('test_csv')\n",
    "\n",
    "\n",
    "\n",
    "df = pd.read_table(r\"iris.data\", sep=\",\", header=None, names=['sepalLength', 'sepalWidth', 'petalLength', 'petalWidth', 'class'])\n",
    "df.head()"
   ]
  },
  {
   "cell_type": "code",
   "execution_count": 3,
   "metadata": {},
   "outputs": [],
   "source": [
    "# Converted the last label as classes\n",
    "df['class'] = pd.Categorical(df['class'])\n",
    "df['class'] = df['class'].cat.codes"
   ]
  },
  {
   "cell_type": "code",
   "execution_count": 4,
   "metadata": {},
   "outputs": [],
   "source": [
    "# k-fold cross validation\n",
    "cv = model_selection.KFold(n_splits=5)"
   ]
  },
  {
   "cell_type": "code",
   "execution_count": 5,
   "metadata": {},
   "outputs": [],
   "source": [
    "# creating target label and features\n",
    "X = df[df.columns[:-1]].values\n",
    "y = df['class'].values"
   ]
  },
  {
   "cell_type": "code",
   "execution_count": 6,
   "metadata": {},
   "outputs": [],
   "source": [
    "# Shuffling the X and y before splitting\n",
    "X, y = shuffle(X, y, random_state = 999)"
   ]
  },
  {
   "cell_type": "code",
   "execution_count": 7,
   "metadata": {},
   "outputs": [],
   "source": [
    "# Spitting the test set into 5 cross valdiation \n",
    "for i, j in cv.split(df):\n",
    "    train_X.append(X[i])\n",
    "    test_X.append(X[j])\n",
    "    train_y.append(y[i])\n",
    "    test_y.append(y[j])"
   ]
  },
  {
   "cell_type": "code",
   "execution_count": 8,
   "metadata": {},
   "outputs": [
    {
     "name": "stdout",
     "output_type": "stream",
     "text": [
      "(5, 120, 4)\n",
      "(5, 120)\n",
      "(5, 30, 4)\n",
      "(5, 30)\n"
     ]
    }
   ],
   "source": [
    "# converting in np array with dimensions as printed\n",
    "train_X = np.asarray(train_X)\n",
    "test_X = np.asarray(test_X)\n",
    "train_y = np.asarray(train_y)\n",
    "test_y = np.asarray(test_y)\n",
    "print(train_X.shape)\n",
    "print(train_y.shape)\n",
    "print(test_X.shape)\n",
    "print(test_y.shape)\n",
    "\n",
    "for i in range(0,5):\n",
    "    np.savetxt(\"train_csv/train_X_\"+str(i)+\".csv\", train_X[i], delimiter=\",\")\n",
    "    np.savetxt(\"train_csv/train_y_\"+str(i)+\".csv\", train_y[i], delimiter=\",\")    \n",
    "    np.savetxt(\"test_csv/test_X_\"+str(i)+\".csv\", test_X[i], delimiter=\",\")    \n",
    "    np.savetxt(\"test_csv/test_y_\"+str(i)+\".csv\", test_y[i], delimiter=\",\")    "
   ]
  },
  {
   "cell_type": "code",
   "execution_count": 9,
   "metadata": {},
   "outputs": [
    {
     "name": "stdout",
     "output_type": "stream",
     "text": [
      "0.9333333333333333\n",
      "[0.93333333 0.93333333 0.93333333 0.93333333 0.96666667 0.96666667\n",
      " 0.96666667 0.96666667 0.96666667 0.9        0.9        0.9\n",
      " 0.9        0.9        0.9        0.9        0.9        0.9\n",
      " 0.9        0.9        0.9        0.93333333 0.93333333 0.93333333\n",
      " 0.9       ]\n",
      "0.9666666666666667\n",
      "[1.         0.96666667 1.         1.         1.         0.96666667\n",
      " 0.96666667 0.96666667 0.96666667 0.96666667 0.96666667 0.96666667\n",
      " 0.96666667 0.96666667 0.93333333 0.93333333 0.93333333 0.93333333\n",
      " 0.96666667 0.93333333 0.93333333 0.93333333 0.93333333 0.9\n",
      " 0.96666667]\n",
      "1.0\n",
      "[0.96666667 1.         0.96666667 1.         1.         1.\n",
      " 1.         1.         1.         1.         1.         1.\n",
      " 1.         1.         1.         1.         1.         1.\n",
      " 1.         1.         1.         1.         1.         1.\n",
      " 1.        ]\n",
      "0.9\n",
      "[0.93333333 0.93333333 0.93333333 0.96666667 0.93333333 0.96666667\n",
      " 0.96666667 0.96666667 0.93333333 0.96666667 0.93333333 0.96666667\n",
      " 0.96666667 0.96666667 0.96666667 0.96666667 0.96666667 0.96666667\n",
      " 0.96666667 0.96666667 0.96666667 0.93333333 0.93333333 0.93333333\n",
      " 0.93333333]\n",
      "0.9666666666666667\n",
      "[0.93333333 0.9        0.96666667 0.96666667 0.96666667 0.96666667\n",
      " 0.96666667 1.         1.         1.         1.         1.\n",
      " 1.         1.         1.         1.         1.         1.\n",
      " 1.         1.         1.         1.         1.         1.\n",
      " 1.        ]\n"
     ]
    }
   ],
   "source": [
    "for i in range(5):\n",
    "#     This function is used to train and save model for dtc in txt format in dtc directory\n",
    "    training.create_dtc(i)\n",
    "\n",
    "#     This function is used to train and save model for knn for different values of k in txt format in knn directory\n",
    "    training.create_knn(i,max_neighbors)      \n",
    "\n",
    "#     Loads model from txt ,prints accuracy in txt and returns accuracy to take average for dtc\n",
    "    a = testing.run_dtc(i)\n",
    "    print(a)\n",
    "    acc_dtc = np.append(acc_dtc,a)\n",
    "    \n",
    "#     Loads model from txt ,prints accuracy in txt and returns accuracy to take average for knn\n",
    "    b = testing.run_knn(i,max_neighbors)\n",
    "    print(b)\n",
    "    acc_knn = np.append(acc_knn,b)      "
   ]
  },
  {
   "cell_type": "code",
   "execution_count": 10,
   "metadata": {},
   "outputs": [],
   "source": [
    "# reshaping in a matrix\n",
    "acc_knn = acc_knn.reshape(int(max_neighbors/5),max_neighbors)\n",
    "\n",
    "# average mean of k= 0-max_neighbours for all 5 fold cross sets\n",
    "mean_knn_accuracy = np.mean(acc_knn,axis=0)"
   ]
  },
  {
   "cell_type": "code",
   "execution_count": 11,
   "metadata": {},
   "outputs": [
    {
     "data": {
      "text/plain": [
       "0.9533333333333334"
      ]
     },
     "execution_count": 11,
     "metadata": {},
     "output_type": "execute_result"
    }
   ],
   "source": [
    "# Mean of dtc accuracies\n",
    "# ** Accuracy may differ due to shuffling **\n",
    "np.mean(acc_dtc)"
   ]
  },
  {
   "cell_type": "code",
   "execution_count": 12,
   "metadata": {},
   "outputs": [
    {
     "data": {
      "image/png": "[encoded data removed]",
      "text/plain": [
       "<Figure size 432x288 with 1 Axes>"
      ]
     },
     "metadata": {
      "needs_background": "light"
     },
     "output_type": "display_data"
    }
   ],
   "source": [
    "plt.bar([i+1 for i in range(0,max_neighbors)], mean_knn_accuracy)\n",
    "plt.ylim([0.9,1])\n",
    "plt.xlabel(\"Value of K\")\n",
    "plt.ylabel(\"Mean Accuracy of 5 fold\")\n",
    "plt.title(\"Mean Accuracy vs K\")\n",
    "plt.show()"
   ]
  },
  {
   "cell_type": "markdown",
   "metadata": {},
   "source": [
    "We can see that average mean accuracy is greatest for k=8 i.e. mean_knn_accuracy[7]\n",
    "So this is the best k"
   ]
  },
  {
   "cell_type": "code",
   "execution_count": 13,
   "metadata": {},
   "outputs": [
    {
     "data": {
      "image/png": "[encoded data removed]",
      "text/plain": [
       "<Figure size 432x288 with 1 Axes>"
      ]
     },
     "metadata": {
      "needs_background": "light"
     },
     "output_type": "display_data"
    }
   ],
   "source": [
    "Classifier = ('KNN', 'Decision Tree Classifier')\n",
    "y_pos = np.arange(len(Classifier))\n",
    "plt.bar(np.arange(2), [mean_knn_accuracy[7], np.mean(acc_dtc)])\n",
    "plt.ylim([0.9,1])\n",
    "plt.title(\"k-NN and Decision tree accuracy comparison\")\n",
    "plt.ylabel(\"Accuracy Score\")\n",
    "plt.xlabel(\"Classifiers Name\")\n",
    "plt.xticks(y_pos, Classifier)\n",
    "plt.show()"
   ]
  },
  {
   "cell_type": "markdown",
   "metadata": {},
   "source": [
    "We can observe that the knn performs better for k=7 than decision tree classifier. The more accurate result of knn from decision tree classifier may be because of smaller training dataset.\n",
    "\n",
    "It also helps to create non linear decision boundaries whereas decision tree classifier tends to create linear boundaries.\n",
    "Knn is a lazy learner and mainly non-deterministic so it tends to not overfit the data and simply calculates the distances\n",
    "\n",
    "Also decision tree tend to perform poorly for continuous values as well.\n",
    "For the decision tree, the high classification error rate while training set is small in comparison with the number of classes"
   ]
  },
  {
   "cell_type": "markdown",
   "metadata": {},
   "source": [
    "The code and the data can be found at https://github.com/sidmal11/ml/tree/master/Assign5"
   ]
  },
  {
   "cell_type": "code",
   "execution_count": null,
   "metadata": {},
   "outputs": [],
   "source": []
  },
  {
   "cell_type": "code",
   "execution_count": null,
   "metadata": {},
   "outputs": [],
   "source": []
  },
  {
   "cell_type": "code",
   "execution_count": null,
   "metadata": {},
   "outputs": [],
   "source": []
  },
  {
   "cell_type": "code",
   "execution_count": null,
   "metadata": {},
   "outputs": [],
   "source": []
  },
  {
   "cell_type": "code",
   "execution_count": null,
   "metadata": {},
   "outputs": [],
   "source": []
  },
  {
   "cell_type": "code",
   "execution_count": null,
   "metadata": {},
   "outputs": [],
   "source": []
  },
  {
   "cell_type": "code",
   "execution_count": null,
   "metadata": {},
   "outputs": [],
   "source": []
  },
  {
   "cell_type": "code",
   "execution_count": null,
   "metadata": {},
   "outputs": [],
   "source": []
  },
  {
   "cell_type": "code",
   "execution_count": null,
   "metadata": {},
   "outputs": [],
   "source": []
  },
  {
   "cell_type": "code",
   "execution_count": null,
   "metadata": {},
   "outputs": [],
   "source": []
  },
  {
   "cell_type": "code",
   "execution_count": null,
   "metadata": {},
   "outputs": [],
   "source": []
  },
  {
   "cell_type": "code",
   "execution_count": null,
   "metadata": {},
   "outputs": [],
   "source": []
  },
  {
   "cell_type": "code",
   "execution_count": null,
   "metadata": {},
   "outputs": [],
   "source": []
  },
  {
   "cell_type": "code",
   "execution_count": null,
   "metadata": {},
   "outputs": [],
   "source": []
  },
  {
   "cell_type": "code",
   "execution_count": null,
   "metadata": {},
   "outputs": [],
   "source": []
  },
  {
   "cell_type": "code",
   "execution_count": null,
   "metadata": {},
   "outputs": [],
   "source": []
  },
  {
   "cell_type": "code",
   "execution_count": null,
   "metadata": {},
   "outputs": [],
   "source": []
  }
 ],
 "metadata": {
  "kernelspec": {
   "display_name": "Python 3",
   "language": "python",
   "name": "python3"
  },
  "language_info": {
   "codemirror_mode": {
    "name": "ipython",
    "version": 3
   },
   "file_extension": ".py",
   "mimetype": "text/x-python",
   "name": "python",
   "nbconvert_exporter": "python",
   "pygments_lexer": "ipython3",
   "version": "3.7.4"
  }
 },
 "nbformat": 4,
 "nbformat_minor": 4
}
